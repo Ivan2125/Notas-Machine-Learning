{
  "cells": [
    {
      "cell_type": "markdown",
      "metadata": {
        "id": "sVMeWQMn5uo8"
      },
      "source": [
        "# Repaso\n"
      ]
    },
    {
      "cell_type": "markdown",
      "metadata": {
        "id": "61Sh4J297VN3"
      },
      "source": [
        "## Inversa de una matriz"
      ]
    },
    {
      "cell_type": "code",
      "execution_count": 1,
      "metadata": {
        "colab": {
          "base_uri": "https://localhost:8080/"
        },
        "id": "Q9ZpWNuG6I_X",
        "outputId": "a0cd11db-78bb-4e4c-8f9c-26ea7ecffd06"
      },
      "outputs": [
        {
          "name": "stdout",
          "output_type": "stream",
          "text": [
            "Inversa de A:\n",
            "[[ 0.42857143  0.14285714]\n",
            " [-0.14285714  0.28571429]]\n"
          ]
        }
      ],
      "source": [
        "import numpy as np\n",
        "\n",
        "# Definir una matriz\n",
        "A = np.array([[2, -1], [1, 3]])  # Matriz 2x2\n",
        "\n",
        "# Calcular la inversa de la matriz A\n",
        "A_inv = np.linalg.inv(A)  # Inversa de la matriz A\n",
        "\n",
        "# Imprimir la matriz inversa\n",
        "print(\"Inversa de A:\")\n",
        "print(A_inv)"
      ]
    },
    {
      "cell_type": "markdown",
      "metadata": {
        "id": "vczXq3yl8qUB"
      },
      "source": [
        "## Producto de matrices y vectores"
      ]
    },
    {
      "cell_type": "code",
      "execution_count": 2,
      "metadata": {
        "colab": {
          "base_uri": "https://localhost:8080/"
        },
        "id": "EBM_4EHAbxgZ",
        "outputId": "968c312e-5fcd-464d-dc3b-1bd3dbca0764"
      },
      "outputs": [
        {
          "data": {
            "text/plain": [
              "array([ 2, -1])"
            ]
          },
          "execution_count": 2,
          "metadata": {},
          "output_type": "execute_result"
        }
      ],
      "source": [
        "A[0]  # Primera fila de A"
      ]
    },
    {
      "cell_type": "code",
      "execution_count": 3,
      "metadata": {
        "colab": {
          "base_uri": "https://localhost:8080/"
        },
        "id": "3cn2ongpb02B",
        "outputId": "ea77053c-705d-4d1e-aa22-8d5994929cf3"
      },
      "outputs": [
        {
          "data": {
            "text/plain": [
              "array([1, 3])"
            ]
          },
          "execution_count": 3,
          "metadata": {},
          "output_type": "execute_result"
        }
      ],
      "source": [
        "A[1]  # Segunda fila de A"
      ]
    },
    {
      "cell_type": "code",
      "execution_count": 4,
      "metadata": {
        "colab": {
          "base_uri": "https://localhost:8080/"
        },
        "id": "R8X955kY8rt0",
        "outputId": "6e7c74c2-e8f5-4863-d565-9b23f839e050"
      },
      "outputs": [
        {
          "name": "stdout",
          "output_type": "stream",
          "text": [
            "Producto de matrices y vectores:\n",
            "-1\n"
          ]
        }
      ],
      "source": [
        "print(\"Producto de matrices y vectores:\")\n",
        "print(np.dot(A[0], A[1]))"
      ]
    },
    {
      "cell_type": "markdown",
      "metadata": {
        "id": "4hkLBxcO6OfW"
      },
      "source": [
        "# Eigenvalores e eigenvectores"
      ]
    },
    {
      "cell_type": "markdown",
      "metadata": {
        "id": "Frn0Utxr6Q3n"
      },
      "source": [
        "Los eigenvectores y eigenvalores son conceptos fundamentales en el álgebra lineal y tienen importantes aplicaciones en diversas áreas, incluyendo el machine learning. Aquí te explico qué son y cómo se representan en Python:\n",
        "\n",
        "## Eigenvector\n",
        "Un eigenvector es un vector no nulo que, cuando se multiplica por una matriz, solo cambia en escala (es decir, se estira o se contrae), sin cambiar su dirección.\n",
        "\n",
        "En otras palabras, si tienes una matriz $A$ y un eigenvector $v$, entonces $$A \\cdot v = \\lambda \\cdot v,$$ donde $\\lambda$ es el eigenvalor correspondiente. Los eigenvectores son importantes porque representan direcciones especiales dentro de una transformación lineal representada por una matriz."
      ]
    },
    {
      "cell_type": "markdown",
      "metadata": {
        "id": "wxgKm4-d7DSw"
      },
      "source": [
        "## Eigenvalor\n",
        "El eigenvalor ($\\lambda$) es un número escalar que corresponde a un eigenvector y nos dice cuánto se estira o contrae el eigenvector cuando se aplica la matriz. Cada eigenvector tiene su propio eigenvalor.\n",
        "\n",
        "Los eigenvalores son útiles para comprender la magnitud del efecto de la matriz en la dirección representada por el eigenvector."
      ]
    },
    {
      "cell_type": "code",
      "execution_count": 5,
      "metadata": {
        "colab": {
          "base_uri": "https://localhost:8080/"
        },
        "id": "XAMfUc_s6RRN",
        "outputId": "1cc65475-ca56-44aa-94c1-2d76c5fc5f7e"
      },
      "outputs": [
        {
          "name": "stdout",
          "output_type": "stream",
          "text": [
            "Eigenvalores: [ 4.23606798 -0.23606798]\n",
            "Eigenvectores: [[ 0.40824829 -0.40824829]\n",
            " [ 0.91287093  0.91287093]]\n"
          ]
        }
      ],
      "source": [
        "import numpy as np\n",
        "\n",
        "# Definir una matriz\n",
        "A = np.array([[2, 1], [5, 2]])\n",
        "\n",
        "# Calcular eigenvectores y eigenvalores\n",
        "evalues, evectors = np.linalg.eig(A)\n",
        "\n",
        "# Imprimir los eigenvalores\n",
        "print(\"Eigenvalores:\", evalues)\n",
        "\n",
        "# Imprimir los eigenvectores\n",
        "print(\"Eigenvectores:\", evectors)"
      ]
    },
    {
      "cell_type": "code",
      "execution_count": 6,
      "metadata": {
        "colab": {
          "base_uri": "https://localhost:8080/"
        },
        "id": "pdYYJ2hk8N6D",
        "outputId": "963ce803-a802-4940-8ac4-fc756a13bf85"
      },
      "outputs": [
        {
          "name": "stdout",
          "output_type": "stream",
          "text": [
            "Producto escalar de los eigenvectores:\n",
            "0.0\n"
          ]
        }
      ],
      "source": [
        "print(\"Producto escalar de los eigenvectores:\")\n",
        "print(np.dot(evectors[0], evectors[1]))"
      ]
    },
    {
      "cell_type": "markdown",
      "metadata": {
        "id": "HMd3UVAY-hg1"
      },
      "source": [
        "# PCA"
      ]
    },
    {
      "cell_type": "code",
      "execution_count": 7,
      "metadata": {
        "id": "oYUovE35-tsH"
      },
      "outputs": [],
      "source": [
        "import numpy as np\n",
        "import matplotlib.pyplot as plt\n",
        "from sklearn import datasets\n",
        "\n",
        "# Cargar el conjunto de datos Iris\n",
        "iris = datasets.load_iris()\n",
        "X = iris.data\n",
        "y = iris.target"
      ]
    },
    {
      "cell_type": "code",
      "execution_count": 8,
      "metadata": {
        "colab": {
          "base_uri": "https://localhost:8080/"
        },
        "id": "rW02Sxk3_enI",
        "outputId": "94af8e1d-8fd8-49bc-9d94-12c8c4ae1e95"
      },
      "outputs": [
        {
          "data": {
            "text/plain": [
              "array([0, 0, 0, 0, 0, 0, 0, 0, 0, 0, 0, 0, 0, 0, 0, 0, 0, 0, 0, 0, 0, 0,\n",
              "       0, 0, 0, 0, 0, 0, 0, 0, 0, 0, 0, 0, 0, 0, 0, 0, 0, 0, 0, 0, 0, 0,\n",
              "       0, 0, 0, 0, 0, 0, 1, 1, 1, 1, 1, 1, 1, 1, 1, 1, 1, 1, 1, 1, 1, 1,\n",
              "       1, 1, 1, 1, 1, 1, 1, 1, 1, 1, 1, 1, 1, 1, 1, 1, 1, 1, 1, 1, 1, 1,\n",
              "       1, 1, 1, 1, 1, 1, 1, 1, 1, 1, 1, 1, 2, 2, 2, 2, 2, 2, 2, 2, 2, 2,\n",
              "       2, 2, 2, 2, 2, 2, 2, 2, 2, 2, 2, 2, 2, 2, 2, 2, 2, 2, 2, 2, 2, 2,\n",
              "       2, 2, 2, 2, 2, 2, 2, 2, 2, 2, 2, 2, 2, 2, 2, 2, 2, 2])"
            ]
          },
          "execution_count": 8,
          "metadata": {},
          "output_type": "execute_result"
        }
      ],
      "source": [
        "y"
      ]
    },
    {
      "cell_type": "markdown",
      "metadata": {
        "id": "ckeqarOi_gBu"
      },
      "source": [
        "## Eigenvectores como Componentes Principales\n",
        "Cuando aplicas PCA a un conjunto de datos, el algoritmo busca los eigenvectores de la matriz de covarianza de los datos. Estos eigenvectores representan las direcciones principales a lo largo de las cuales los datos tienen la mayor variabilidad. En otras palabras, los eigenvectores son las componentes principales de los datos."
      ]
    },
    {
      "cell_type": "markdown",
      "metadata": {
        "id": "-mHQfQrBKbCQ"
      },
      "source": [
        "Para obtener los componentes principales primero es necesario obtener la matriz de covarianza. Para ello,\n",
        "\n",
        "$$cov(X) = \\dfrac{1}{n} \\cdot (X - \\mu)^T (X - \\mu)$$"
      ]
    },
    {
      "cell_type": "code",
      "execution_count": 9,
      "metadata": {
        "colab": {
          "base_uri": "https://localhost:8080/"
        },
        "id": "VBQJHKbc_gWv",
        "outputId": "19d337cf-4924-4d87-e4d1-2a62a68b5ddb"
      },
      "outputs": [
        {
          "name": "stdout",
          "output_type": "stream",
          "text": [
            "Matriz de Covarianza:\n",
            "[[ 0.68112222 -0.04215111  1.26582     0.51282889]\n",
            " [-0.04215111  0.18871289 -0.32745867 -0.12082844]\n",
            " [ 1.26582    -0.32745867  3.09550267  1.286972  ]\n",
            " [ 0.51282889 -0.12082844  1.286972    0.57713289]]\n"
          ]
        }
      ],
      "source": [
        "# Calcular la matriz de covarianza de forma manual\n",
        "X_1 = X - np.mean(X, 0)  # Normalizar los datos\n",
        "cov_matrix = 1 / X.shape[0] * np.matmul(X_1.T, X_1)  # Calcular la matriz de covarianza\n",
        "\n",
        "# Imprimir la matriz de covarianza\n",
        "print(\"Matriz de Covarianza:\")\n",
        "print(cov_matrix)"
      ]
    },
    {
      "cell_type": "code",
      "execution_count": 10,
      "metadata": {
        "colab": {
          "base_uri": "https://localhost:8080/"
        },
        "id": "VExuh_axLynn",
        "outputId": "7cb00930-a77d-46c1-cf4d-38577cbbad2f"
      },
      "outputs": [
        {
          "name": "stdout",
          "output_type": "stream",
          "text": [
            "Matriz de Covarianza:\n",
            "[[ 0.68569351 -0.042434    1.27431544  0.51627069]\n",
            " [-0.042434    0.18997942 -0.32965638 -0.12163937]\n",
            " [ 1.27431544 -0.32965638  3.11627785  1.2956094 ]\n",
            " [ 0.51627069 -0.12163937  1.2956094   0.58100626]]\n"
          ]
        }
      ],
      "source": [
        "cov_matrix_alt = np.cov(\n",
        "    X, rowvar=False\n",
        ")  # Calcular la matriz de covarianza de forma automática\n",
        "print(\"Matriz de Covarianza:\")\n",
        "print(cov_matrix_alt)"
      ]
    },
    {
      "cell_type": "code",
      "execution_count": 11,
      "metadata": {
        "colab": {
          "base_uri": "https://localhost:8080/"
        },
        "id": "Z7VJgaev_swP",
        "outputId": "d95198ca-3bc4-443a-ebf3-e29eb6080619"
      },
      "outputs": [
        {
          "name": "stdout",
          "output_type": "stream",
          "text": [
            "Eigenvalores:\n",
            "[4.20005343 0.24105294 0.0776881  0.02367619]\n",
            "\n",
            "Eigenvectores:\n",
            "[[ 0.36138659 -0.65658877 -0.58202985  0.31548719]\n",
            " [-0.08452251 -0.73016143  0.59791083 -0.3197231 ]\n",
            " [ 0.85667061  0.17337266  0.07623608 -0.47983899]\n",
            " [ 0.3582892   0.07548102  0.54583143  0.75365743]]\n"
          ]
        }
      ],
      "source": [
        "evalues, evectors = np.linalg.eig(cov_matrix)  # Calcular eigenvectores y eigenvalores\n",
        "print(\"Eigenvalores:\")\n",
        "print(evalues)\n",
        "print(\"\\nEigenvectores:\")\n",
        "print(evectors)"
      ]
    },
    {
      "cell_type": "markdown",
      "metadata": {
        "id": "_4VV-M_-_8tH"
      },
      "source": [
        "## Eigenvalores como Importancia de Componentes\n",
        "Los eigenvalores correspondientes a los eigenvectores indican la importancia relativa de cada componente principal. Cuanto mayor sea el eigenvalor, más importante es la dirección principal correspondiente en términos de la variabilidad de los datos.\n",
        "\n",
        "Los eigenvalores te dicen cuánta información se conserva cuando reduces la dimensionalidad del conjunto de datos."
      ]
    },
    {
      "cell_type": "code",
      "execution_count": 12,
      "metadata": {
        "colab": {
          "base_uri": "https://localhost:8080/"
        },
        "id": "IZiV9-Vp_yYv",
        "outputId": "43fc9b03-99e5-4135-d24b-acf481200b51"
      },
      "outputs": [
        {
          "name": "stdout",
          "output_type": "stream",
          "text": [
            "[[ 0.36138659 -0.65658877 -0.58202985  0.31548719]\n",
            " [-0.08452251 -0.73016143  0.59791083 -0.3197231 ]\n",
            " [ 0.85667061  0.17337266  0.07623608 -0.47983899]\n",
            " [ 0.3582892   0.07548102  0.54583143  0.75365743]]\n"
          ]
        }
      ],
      "source": [
        "print(evectors)"
      ]
    },
    {
      "cell_type": "code",
      "execution_count": 13,
      "metadata": {
        "colab": {
          "base_uri": "https://localhost:8080/"
        },
        "id": "mpsoCoDBAtZA",
        "outputId": "c899f997-0393-405b-cc74-1e25f5d2c318"
      },
      "outputs": [
        {
          "name": "stdout",
          "output_type": "stream",
          "text": [
            "[4.20005343 0.24105294 0.0776881  0.02367619]\n"
          ]
        }
      ],
      "source": [
        "print(evalues)"
      ]
    },
    {
      "cell_type": "code",
      "execution_count": 14,
      "metadata": {
        "colab": {
          "base_uri": "https://localhost:8080/"
        },
        "id": "Z58J2-CwAVJZ",
        "outputId": "876d29e3-adc6-4959-d128-ff8071f74512"
      },
      "outputs": [
        {
          "name": "stdout",
          "output_type": "stream",
          "text": [
            "[4.20005343 0.24105294 0.0776881  0.02367619]\n"
          ]
        }
      ],
      "source": [
        "# Ordenar los eigenvectores y eigenvalores de mayor a menor\n",
        "evalues_index = np.argsort(evalues)[::-1]\n",
        "evectors_sorted = evectors[:, evalues_index]\n",
        "evalues_sorted = evalues[evalues_index]\n",
        "\n",
        "print(evalues_sorted)"
      ]
    },
    {
      "cell_type": "code",
      "execution_count": 15,
      "metadata": {
        "colab": {
          "base_uri": "https://localhost:8080/"
        },
        "id": "tkmP9ao5AqHZ",
        "outputId": "d1fcca36-0728-4f3d-de64-2ee4d16585c0"
      },
      "outputs": [
        {
          "name": "stdout",
          "output_type": "stream",
          "text": [
            "[[ 0.36138659 -0.65658877]\n",
            " [-0.08452251 -0.73016143]\n",
            " [ 0.85667061  0.17337266]\n",
            " [ 0.3582892   0.07548102]]\n"
          ]
        }
      ],
      "source": [
        "# Seleccionar los dos componentes principales\n",
        "principal_components = evectors_sorted[:, :2]\n",
        "\n",
        "print(principal_components)"
      ]
    },
    {
      "cell_type": "code",
      "execution_count": 16,
      "metadata": {
        "colab": {
          "base_uri": "https://localhost:8080/"
        },
        "id": "BBVBJtd0A3qn",
        "outputId": "b6c09ac0-894e-4a3c-93a1-ad38450f3f81"
      },
      "outputs": [
        {
          "name": "stdout",
          "output_type": "stream",
          "text": [
            "[[ 2.81823951 -5.64634982]\n",
            " [ 2.78822345 -5.14995135]\n",
            " [ 2.61337456 -5.18200315]\n",
            " [ 2.75702228 -5.0086536 ]\n",
            " [ 2.7736486  -5.65370709]\n",
            " [ 3.2215055  -6.06828303]\n",
            " [ 2.68182738 -5.23749119]\n",
            " [ 2.87622016 -5.49033754]\n",
            " [ 2.6159824  -4.74864082]\n",
            " [ 2.82960933 -5.21317833]\n",
            " [ 2.99541804 -5.97202148]\n",
            " [ 2.8896099  -5.34168252]\n",
            " [ 2.71625587 -5.09184058]\n",
            " [ 2.27856139 -4.81555799]\n",
            " [ 2.85761474 -6.50571721]\n",
            " [ 3.1163261  -6.66501491]\n",
            " [ 2.87883726 -6.13763209]\n",
            " [ 2.85406843 -5.63880172]\n",
            " [ 3.30254481 -6.19979162]\n",
            " [ 2.91437873 -5.84051289]\n",
            " [ 3.19210892 -5.71829851]\n",
            " [ 2.9586599  -5.75994864]\n",
            " [ 2.28642572 -5.46042065]\n",
            " [ 3.19963195 -5.42566143]\n",
            " [ 3.14661108 -5.28967072]\n",
            " [ 2.99569623 -5.1809357 ]\n",
            " [ 3.03354506 -5.45790407]\n",
            " [ 2.94004523 -5.69467143]\n",
            " [ 2.86283042 -5.63899256]\n",
            " [ 2.87037575 -5.12999135]\n",
            " [ 2.91496666 -5.12263409]\n",
            " [ 3.09243264 -5.73787684]\n",
            " [ 2.8535028  -6.1403164 ]\n",
            " [ 2.90362838 -6.42009834]\n",
            " [ 2.86543825 -5.20563023]\n",
            " [ 2.63612348 -5.39631705]\n",
            " [ 2.87712708 -5.9263226 ]\n",
            " [ 2.70168102 -5.59559631]\n",
            " [ 2.52186309 -4.83899423]\n",
            " [ 2.91235882 -5.55599641]\n",
            " [ 2.73226271 -5.59048011]\n",
            " [ 2.65299643 -4.385992  ]\n",
            " [ 2.50495859 -4.98502652]\n",
            " [ 3.09675065 -5.51582401]\n",
            " [ 3.29287589 -5.76361572]\n",
            " [ 2.78791371 -5.07674437]\n",
            " [ 2.96421687 -5.83072372]\n",
            " [ 2.66290296 -5.09900701]\n",
            " [ 2.95927938 -5.9063626 ]\n",
            " [ 2.79900535 -5.43465866]\n",
            " [ 6.78719082 -6.01211305]\n",
            " [ 6.43485366 -5.64528622]\n",
            " [ 6.96666745 -5.83121539]\n",
            " [ 5.68568285 -4.49899357]\n",
            " [ 6.59046839 -5.40154325]\n",
            " [ 6.14403422 -4.90870571]\n",
            " [ 6.5974258  -5.61042085]\n",
            " [ 4.75324246 -4.32206162]\n",
            " [ 6.54649696 -5.55531448]\n",
            " [ 5.49361973 -4.60387067]\n",
            " [ 4.99452425 -4.06098139]\n",
            " [ 6.01406369 -5.22297134]\n",
            " [ 5.76734164 -4.77691611]\n",
            " [ 6.48729964 -5.20213472]\n",
            " [ 5.32843976 -5.07209837]\n",
            " [ 6.43022591 -5.79413207]\n",
            " [ 6.16264889 -4.97398291]\n",
            " [ 5.73847013 -4.99334181]\n",
            " [ 6.44709886 -4.78380703]\n",
            " [ 5.54759211 -4.7431182 ]\n",
            " [ 6.61864831 -5.24233572]\n",
            " [ 5.86025355 -5.25802755]\n",
            " [ 6.80054901 -4.99916527]\n",
            " [ 6.42409406 -5.14421478]\n",
            " [ 6.21721846 -5.47600852]\n",
            " [ 6.40253951 -5.65545705]\n",
            " [ 6.83438957 -5.57139345]\n",
            " [ 7.06016729 -5.59444802]\n",
            " [ 6.31565578 -5.16360228]\n",
            " [ 5.19678135 -4.95869039]\n",
            " [ 5.43423864 -4.62178045]\n",
            " [ 5.31274266 -4.64666581]\n",
            " [ 5.63879384 -5.01292014]\n",
            " [ 6.88239157 -4.90599829]\n",
            " [ 6.09037158 -4.84266516]\n",
            " [ 6.30922345 -5.52113489]\n",
            " [ 6.72305602 -5.73457217]\n",
            " [ 6.31746037 -4.95491552]\n",
            " [ 5.74832281 -5.05842818]\n",
            " [ 5.66877835 -4.64502585]\n",
            " [ 5.96716542 -4.65624103]\n",
            " [ 6.39318033 -5.29248813]\n",
            " [ 5.73291316 -4.92256673]\n",
            " [ 4.79783337 -4.31470435]\n",
            " [ 5.85934663 -4.82204248]\n",
            " [ 5.83429961 -5.11429789]\n",
            " [ 5.87858078 -5.03373365]\n",
            " [ 6.14494114 -5.34469077]\n",
            " [ 4.59589527 -4.57085921]\n",
            " [ 5.80136597 -4.97805477]\n",
            " [ 8.03355786 -5.31710347]\n",
            " [ 6.91760101 -4.75203623]\n",
            " [ 8.11904115 -5.67085573]\n",
            " [ 7.47389619 -5.14722467]\n",
            " [ 7.85237105 -5.28669163]\n",
            " [ 8.89940387 -5.87778925]\n",
            " [ 6.02359738 -4.13419385]\n",
            " [ 8.4349522  -5.68245258]\n",
            " [ 7.82359395 -5.08312107]\n",
            " [ 8.4191161  -6.10974453]\n",
            " [ 7.16413929 -5.56918098]\n",
            " [ 7.30576709 -5.11131496]\n",
            " [ 7.66795693 -5.54322816]\n",
            " [ 6.84852871 -4.55013423]\n",
            " [ 7.08829336 -4.78731186]\n",
            " [ 7.40682151 -5.44620327]\n",
            " [ 7.45205419 -5.36889584]\n",
            " [ 8.9894205  -6.50269191]\n",
            " [ 9.29801055 -5.58427555]\n",
            " [ 6.80315685 -4.56580294]\n",
            " [ 7.93018305 -5.70514859]\n",
            " [ 6.70136624 -4.72086105]\n",
            " [ 9.00228517 -5.78762668]\n",
            " [ 6.89113126 -5.12255325]\n",
            " [ 7.77779564 -5.66194318]\n",
            " [ 8.11645561 -5.88785393]\n",
            " [ 6.76087329 -5.14724778]\n",
            " [ 6.79349719 -5.21028393]\n",
            " [ 7.62597386 -5.1172231 ]\n",
            " [ 7.89036815 -5.79159238]\n",
            " [ 8.34403791 -5.70222174]\n",
            " [ 8.73303879 -6.70111766]\n",
            " [ 7.66180278 -5.109675  ]\n",
            " [ 6.94652637 -5.18353917]\n",
            " [ 7.28365994 -4.8270509 ]\n",
            " [ 8.57886506 -6.01503825]\n",
            " [ 7.64660845 -5.46701678]\n",
            " [ 7.40746328 -5.3762531 ]\n",
            " [ 6.67169147 -5.16196231]\n",
            " [ 7.60997628 -5.69924045]\n",
            " [ 7.81651984 -5.51060386]\n",
            " [ 7.42463293 -5.73615604]\n",
            " [ 6.91760101 -4.75203623]\n",
            " [ 8.06537851 -5.60481518]\n",
            " [ 7.92111132 -5.63175077]\n",
            " [ 7.44647493 -5.51448488]\n",
            " [ 7.02953175 -4.95163559]\n",
            " [ 7.26671085 -5.40581143]\n",
            " [ 7.40330675 -5.44358054]\n",
            " [ 6.89255399 -5.04429164]]\n"
          ]
        }
      ],
      "source": [
        "# Proyectar los datos originales en el espacio definido por los componentes principales\n",
        "X_transformed = np.dot(X, principal_components)\n",
        "\n",
        "# Ahora X_transformed contiene los datos proyectados en un espacio bidimensional definido por los componentes principales.\n",
        "print(X_transformed)"
      ]
    },
    {
      "cell_type": "code",
      "execution_count": 17,
      "metadata": {
        "colab": {
          "base_uri": "https://localhost:8080/",
          "height": 452
        },
        "id": "yKAXa8AA-i4G",
        "outputId": "65fdcffc-6493-4c41-8829-4cbd81ec76f8"
      },
      "outputs": [
        {
          "data": {
            "image/png": "[encoded data removed]",
            "text/plain": [
              "<Figure size 640x480 with 1 Axes>"
            ]
          },
          "metadata": {},
          "output_type": "display_data"
        }
      ],
      "source": [
        "from sklearn.decomposition import PCA\n",
        "\n",
        "# Aplicar PCA para reducción de dimensionalidad a 2 componentes principales\n",
        "pca = PCA(n_components=2)\n",
        "X_r = pca.fit_transform(X)\n",
        "\n",
        "# Visualizar los datos proyectados en el espacio de 2 dimensiones\n",
        "plt.figure()\n",
        "colors = [\"navy\", \"turquoise\", \"darkorange\"]\n",
        "lw = 2\n",
        "\n",
        "for color, i, target_name in zip(colors, [0, 1, 2], iris.target_names):\n",
        "    plt.scatter(\n",
        "        X_r[y == i, 0], X_r[y == i, 1], color=color, alpha=0.8, lw=lw, label=target_name\n",
        "    )\n",
        "\n",
        "plt.legend(loc=\"best\", shadow=False, scatterpoints=1)\n",
        "plt.title(\"PCA of IRIS dataset\")\n",
        "plt.show()"
      ]
    },
    {
      "cell_type": "markdown",
      "metadata": {
        "id": "Cp0OLHPnD6Fx"
      },
      "source": [
        "# Aplicando PCA a un conjunto de datos\n",
        "Principal Component Analysis (Análisis de Componentes Principales)"
      ]
    },
    {
      "cell_type": "code",
      "execution_count": 18,
      "metadata": {
        "cellView": "form",
        "id": "jnBO8t5mHoS0"
      },
      "outputs": [],
      "source": [
        "# @title Funciones auxiliares para visualización\n",
        "\n",
        "\n",
        "def plot_MNIST_sample(X):\n",
        "    \"\"\"\n",
        "    Plots 9 images in the MNIST dataset.\n",
        "\n",
        "    Args:\n",
        "       X (numpy array of floats) : Data matrix each column corresponds to a\n",
        "                                   different random variable\n",
        "\n",
        "    Returns:\n",
        "      Nothing.\n",
        "\n",
        "    \"\"\"\n",
        "\n",
        "    fig, ax = plt.subplots()\n",
        "    k = 0\n",
        "    for k1 in range(3):\n",
        "        for k2 in range(3):\n",
        "            k = k + 1\n",
        "            plt.imshow(\n",
        "                np.reshape(X[k, :], (28, 28)),\n",
        "                extent=[(k1 + 1) * 28, k1 * 28, (k2 + 1) * 28, k2 * 28],\n",
        "                vmin=0,\n",
        "                vmax=255,\n",
        "            )\n",
        "    plt.xlim((3 * 28, 0))\n",
        "    plt.ylim((3 * 28, 0))\n",
        "    plt.tick_params(\n",
        "        axis=\"both\", which=\"both\", bottom=False, top=False, labelbottom=False\n",
        "    )\n",
        "    plt.clim([0, 250])\n",
        "    ax.set_xticks([])\n",
        "    ax.set_yticks([])\n",
        "    plt.show()\n",
        "\n",
        "\n",
        "def plot_evalues(evals, xlimit=False):\n",
        "    \"\"\"\n",
        "    Plots eigenvalues.\n",
        "\n",
        "    Args:\n",
        "       (numpy array of floats) : Vector of eigenvalues\n",
        "       (boolean) : enable plt.show()\n",
        "    Returns:\n",
        "      Nothing.\n",
        "\n",
        "    \"\"\"\n",
        "\n",
        "    plt.figure()\n",
        "    plt.plot(np.arange(1, len(evals) + 1), evals, \"o-k\")\n",
        "    plt.xlabel(\"Componente\")\n",
        "    plt.ylabel(\"Eigenvalor\")\n",
        "    plt.title(\"Gráfico de eivenvalores ordenados por peso\")\n",
        "    if xlimit:\n",
        "        plt.xlim([0, 100])  # limit x-axis up to 100 for zooming\n",
        "    plt.show()"
      ]
    },
    {
      "cell_type": "markdown",
      "metadata": {
        "id": "pb52bBScED9w"
      },
      "source": [
        "El conjunto de datos MNIST consta de 70.000 imágenes de dígitos manuscritos individuales. Cada imagen es una imagen en escala de grises de 28x28 píxeles. Para mayor comodidad, cada imagen de 28x28 píxeles suele descomponerse en un único vector de 784 (=28x28) elementos, de modo que todo el conjunto de datos se representa como una matriz de 70.000 x 784. Cada fila representa una imagen diferente, y cada columna representa un píxel diferente."
      ]
    },
    {
      "cell_type": "markdown",
      "metadata": {
        "id": "VBhDL6lJEICs"
      },
      "source": [
        "\n",
        "Introduzca la siguiente celda para cargar el conjunto de datos MNIST y trazar las nueve primeras imágenes. Puede tardar unos minutos en cargarse."
      ]
    },
    {
      "cell_type": "code",
      "execution_count": 19,
      "metadata": {
        "colab": {
          "base_uri": "https://localhost:8080/",
          "height": 406
        },
        "id": "2D7H5dWbEIdb",
        "outputId": "6f4e6dbc-8fa1-4537-ecdb-c735bd89d836"
      },
      "outputs": [
        {
          "data": {
            "image/png": "[encoded data removed]",
            "text/plain": [
              "<Figure size 640x480 with 1 Axes>"
            ]
          },
          "metadata": {},
          "output_type": "display_data"
        }
      ],
      "source": [
        "from sklearn.datasets import fetch_openml\n",
        "\n",
        "# GET mnist data\n",
        "mnist = fetch_openml(name=\"mnist_784\", as_frame=False, parser=\"auto\")\n",
        "X = mnist.data\n",
        "\n",
        "# Visualize\n",
        "plot_MNIST_sample(X)"
      ]
    },
    {
      "cell_type": "markdown",
      "metadata": {
        "id": "oa-hSe5XFJPc"
      },
      "source": [
        "## Construcción de la función ``pca(X)``"
      ]
    },
    {
      "cell_type": "markdown",
      "metadata": {
        "id": "Q8LTeSrXI2HB"
      },
      "source": [
        "En esta sección construiremos la función `pca(X)` que nos hará el análisis de componentes principales de la matriz $X$. Usaremos lo visto hasta el momento para construirla."
      ]
    },
    {
      "cell_type": "code",
      "execution_count": 20,
      "metadata": {
        "id": "4jW3RHFoGqhy"
      },
      "outputs": [],
      "source": [
        "# @title Resumen de secciones anteriores\n",
        "\n",
        "\n",
        "def get_sample_cov_matrix(X):\n",
        "    \"\"\"\n",
        "    Returns the sample covariance matrix of data X.\n",
        "\n",
        "    Args:\n",
        "      X (numpy array of floats) : Data matrix each column corresponds to a\n",
        "                                  different random variable\n",
        "\n",
        "    Returns:\n",
        "      (numpy array of floats)   : Covariance matrix\n",
        "    \"\"\"\n",
        "\n",
        "    X = X - np.mean(X, 0)\n",
        "    cov_matrix = 1 / X.shape[0] * np.matmul(X.T, X)\n",
        "    return cov_matrix\n",
        "\n",
        "\n",
        "def sort_evalues_descending(evalues, evectors):\n",
        "    \"\"\"\n",
        "    Sorts eigenvalues and eigenvectors in decreasing order. Also aligns first two\n",
        "    eigenvectors to be in first two quadrants (if 2D).\n",
        "\n",
        "    Args:\n",
        "      evalues (numpy array of floats)    :   Vector of eigenvalues\n",
        "      evectors (numpy array of floats) :   Corresponding matrix of eigenvectors\n",
        "                                           each column corresponds to a different\n",
        "                                           eigenvalue\n",
        "\n",
        "    Returns:\n",
        "      (numpy array of floats)          : Vector of eigenvalues after sorting\n",
        "      (numpy array of floats)          : Matrix of eigenvectors after sorting\n",
        "    \"\"\"\n",
        "\n",
        "    index = np.flip(np.argsort(evalues))\n",
        "    evalues = evalues[index]\n",
        "    evectors = evectors[:, index]\n",
        "    if evalues.shape[0] == 2:\n",
        "        if (\n",
        "            np.arccos(np.matmul(evectors[:, 0], 1 / np.sqrt(2) * np.array([1, 1])))\n",
        "            > np.pi / 2\n",
        "        ):\n",
        "            evectors[:, 0] = -evectors[:, 0]\n",
        "        if (\n",
        "            np.arccos(np.matmul(evectors[:, 1], 1 / np.sqrt(2) * np.array([-1, 1])))\n",
        "            > np.pi / 2\n",
        "        ):\n",
        "            evectors[:, 1] = -evectors[:, 1]\n",
        "\n",
        "    return evalues, evectors\n",
        "\n",
        "\n",
        "def change_of_basis(X, W):\n",
        "    \"\"\"\n",
        "    Projects data onto a new basis.\n",
        "\n",
        "    Args:\n",
        "      X (numpy array of floats) : Data matrix each column corresponding to a\n",
        "                                  different random variable\n",
        "      W (numpy array of floats) : new orthonormal basis columns correspond to\n",
        "                                  basis vectors\n",
        "\n",
        "    Returns:\n",
        "      (numpy array of floats)   : Data matrix expressed in new basis\n",
        "    \"\"\"\n",
        "\n",
        "    Y = np.matmul(X, W)\n",
        "\n",
        "    return Y"
      ]
    },
    {
      "cell_type": "code",
      "execution_count": 21,
      "metadata": {
        "id": "i1hh96mFGZ-3"
      },
      "outputs": [],
      "source": [
        "def pca(X):\n",
        "    \"\"\"\n",
        "    Performs PCA on multivariate data. Eigenvalues are sorted in decreasing order\n",
        "\n",
        "    Args:\n",
        "       X (numpy array of floats) :   Data matrix each column corresponds to a\n",
        "                                     different random variable\n",
        "\n",
        "    Returns:\n",
        "      (numpy array of floats)    : Data projected onto the new basis\n",
        "      (numpy array of floats)    : Corresponding matrix of eigenvectors\n",
        "      (numpy array of floats)    : Vector of eigenvalues\n",
        "\n",
        "    \"\"\"\n",
        "\n",
        "    X = X - np.mean(X, 0)\n",
        "    cov_matrix = get_sample_cov_matrix(X)\n",
        "    evalues, evectors = np.linalg.eigh(cov_matrix)\n",
        "    evalues, evectors = sort_evalues_descending(evalues, evectors)\n",
        "    score = change_of_basis(X, evectors)\n",
        "\n",
        "    return score, evectors, evalues"
      ]
    },
    {
      "cell_type": "code",
      "execution_count": 22,
      "metadata": {
        "colab": {
          "base_uri": "https://localhost:8080/",
          "height": 472
        },
        "id": "6iChsJpIFIWp",
        "outputId": "23821f65-7203-4ac9-91ff-9a422aeb1df5"
      },
      "outputs": [
        {
          "data": {
            "image/png": "[encoded data removed]",
            "text/plain": [
              "<Figure size 640x480 with 1 Axes>"
            ]
          },
          "metadata": {},
          "output_type": "display_data"
        }
      ],
      "source": [
        "# Perform PCA\n",
        "score, evectors, evalues = pca(X)\n",
        "\n",
        "# Plot the eigenvalues\n",
        "plot_evalues(evalues, xlimit=True)  # limit x-axis up to 100 for zooming"
      ]
    },
    {
      "cell_type": "markdown",
      "metadata": {
        "id": "iIlxN_eXMiTz"
      },
      "source": [
        "## Utilizando `pca` de `sklearn`"
      ]
    },
    {
      "cell_type": "code",
      "execution_count": 23,
      "metadata": {
        "cellView": "form",
        "id": "AKBn4xrsMt-d"
      },
      "outputs": [],
      "source": [
        "# @title Funciones auxiliares para visualización\n",
        "\n",
        "\n",
        "def visualize_components(component1, component2, labels, show=True):\n",
        "    \"\"\"\n",
        "    Plots a 2D representation of the data for visualization with categories\n",
        "    labelled as different colors.\n",
        "\n",
        "    Args:\n",
        "      component1 (numpy array of floats) : Vector of component 1 scores\n",
        "      component2 (numpy array of floats) : Vector of component 2 scores\n",
        "      labels (numpy array of floats)     : Vector corresponding to categories of\n",
        "                                           samples\n",
        "\n",
        "    Returns:\n",
        "      Nothing.\n",
        "\n",
        "    \"\"\"\n",
        "\n",
        "    plt.figure()\n",
        "    plt.scatter(x=component1, y=component2, c=labels, cmap=\"tab10\")\n",
        "    plt.xlabel(\"Component 1\")\n",
        "    plt.ylabel(\"Component 2\")\n",
        "    plt.colorbar(ticks=range(10))\n",
        "    plt.clim(-0.5, 9.5)\n",
        "    if show:\n",
        "        plt.show()"
      ]
    },
    {
      "cell_type": "markdown",
      "metadata": {
        "id": "YwZalAK5NESn"
      },
      "source": [
        "En este ejercicio, visualizaremos los primeros componentes del conjunto de datos MNIST para buscar evidencias de estructura en los datos. Pero en este tutorial, también estaremos interesados en la etiqueta de cada imagen (es decir, qué número es del 0 al 9). Comience ejecutando la siguiente celda para recargar el conjunto de datos MNIST (esto tarda unos segundos)."
      ]
    },
    {
      "cell_type": "code",
      "execution_count": 24,
      "metadata": {
        "id": "vXvR-3k1M_3v"
      },
      "outputs": [],
      "source": [
        "from sklearn.datasets import fetch_openml\n",
        "\n",
        "# Get images\n",
        "mnist = fetch_openml(name=\"mnist_784\", as_frame=False, parser=\"auto\")\n",
        "X_all = mnist.data\n",
        "\n",
        "# Get labels\n",
        "labels_all = np.array([int(k) for k in mnist.target])"
      ]
    },
    {
      "cell_type": "markdown",
      "metadata": {
        "id": "Aq7eMXT7NR2_"
      },
      "source": [
        "**Nota:** Guardamos el dataset completo `X_all` y las etiquetas como `labels_all`."
      ]
    },
    {
      "cell_type": "markdown",
      "metadata": {
        "id": "fUs1rxn9Nk2v"
      },
      "source": [
        "Para realizar el PCA, ahora utilizaremos el método implementado en `sklearn`. Ejecute la siguiente celda para establecer los parámetros de PCA - sólo nos fijaremos en los 2 componentes superiores porque vamos a visualizar los datos en 2D."
      ]
    },
    {
      "cell_type": "code",
      "execution_count": 25,
      "metadata": {
        "colab": {
          "base_uri": "https://localhost:8080/",
          "height": 74
        },
        "id": "oqEIE4QrNoRN",
        "outputId": "af8d86b6-f292-4b67-c9ac-e4b5f1d20132"
      },
      "outputs": [
        {
          "data": {
            "text/html": [
              "<style>#sk-container-id-1 {\n",
              "  /* Definition of color scheme common for light and dark mode */\n",
              "  --sklearn-color-text: black;\n",
              "  --sklearn-color-line: gray;\n",
              "  /* Definition of color scheme for unfitted estimators */\n",
              "  --sklearn-color-unfitted-level-0: #fff5e6;\n",
              "  --sklearn-color-unfitted-level-1: #f6e4d2;\n",
              "  --sklearn-color-unfitted-level-2: #ffe0b3;\n",
              "  --sklearn-color-unfitted-level-3: chocolate;\n",
              "  /* Definition of color scheme for fitted estimators */\n",
              "  --sklearn-color-fitted-level-0: #f0f8ff;\n",
              "  --sklearn-color-fitted-level-1: #d4ebff;\n",
              "  --sklearn-color-fitted-level-2: #b3dbfd;\n",
              "  --sklearn-color-fitted-level-3: cornflowerblue;\n",
              "\n",
              "  /* Specific color for light theme */\n",
              "  --sklearn-color-text-on-default-background: var(--sg-text-color, var(--theme-code-foreground, var(--jp-content-font-color1, black)));\n",
              "  --sklearn-color-background: var(--sg-background-color, var(--theme-background, var(--jp-layout-color0, white)));\n",
              "  --sklearn-color-border-box: var(--sg-text-color, var(--theme-code-foreground, var(--jp-content-font-color1, black)));\n",
              "  --sklearn-color-icon: #696969;\n",
              "\n",
              "  @media (prefers-color-scheme: dark) {\n",
              "    /* Redefinition of color scheme for dark theme */\n",
              "    --sklearn-color-text-on-default-background: var(--sg-text-color, var(--theme-code-foreground, var(--jp-content-font-color1, white)));\n",
              "    --sklearn-color-background: var(--sg-background-color, var(--theme-background, var(--jp-layout-color0, #111)));\n",
              "    --sklearn-color-border-box: var(--sg-text-color, var(--theme-code-foreground, var(--jp-content-font-color1, white)));\n",
              "    --sklearn-color-icon: #878787;\n",
              "  }\n",
              "}\n",
              "\n",
              "#sk-container-id-1 {\n",
              "  color: var(--sklearn-color-text);\n",
              "}\n",
              "\n",
              "#sk-container-id-1 pre {\n",
              "  padding: 0;\n",
              "}\n",
              "\n",
              "#sk-container-id-1 input.sk-hidden--visually {\n",
              "  border: 0;\n",
              "  clip: rect(1px 1px 1px 1px);\n",
              "  clip: rect(1px, 1px, 1px, 1px);\n",
              "  height: 1px;\n",
              "  margin: -1px;\n",
              "  overflow: hidden;\n",
              "  padding: 0;\n",
              "  position: absolute;\n",
              "  width: 1px;\n",
              "}\n",
              "\n",
              "#sk-container-id-1 div.sk-dashed-wrapped {\n",
              "  border: 1px dashed var(--sklearn-color-line);\n",
              "  margin: 0 0.4em 0.5em 0.4em;\n",
              "  box-sizing: border-box;\n",
              "  padding-bottom: 0.4em;\n",
              "  background-color: var(--sklearn-color-background);\n",
              "}\n",
              "\n",
              "#sk-container-id-1 div.sk-container {\n",
              "  /* jupyter's `normalize.less` sets `[hidden] { display: none; }`\n",
              "     but bootstrap.min.css set `[hidden] { display: none !important; }`\n",
              "     so we also need the `!important` here to be able to override the\n",
              "     default hidden behavior on the sphinx rendered scikit-learn.org.\n",
              "     See: https://github.com/scikit-learn/scikit-learn/issues/21755 */\n",
              "  display: inline-block !important;\n",
              "  position: relative;\n",
              "}\n",
              "\n",
              "#sk-container-id-1 div.sk-text-repr-fallback {\n",
              "  display: none;\n",
              "}\n",
              "\n",
              "div.sk-parallel-item,\n",
              "div.sk-serial,\n",
              "div.sk-item {\n",
              "  /* draw centered vertical line to link estimators */\n",
              "  background-image: linear-gradient(var(--sklearn-color-text-on-default-background), var(--sklearn-color-text-on-default-background));\n",
              "  background-size: 2px 100%;\n",
              "  background-repeat: no-repeat;\n",
              "  background-position: center center;\n",
              "}\n",
              "\n",
              "/* Parallel-specific style estimator block */\n",
              "\n",
              "#sk-container-id-1 div.sk-parallel-item::after {\n",
              "  content: \"\";\n",
              "  width: 100%;\n",
              "  border-bottom: 2px solid var(--sklearn-color-text-on-default-background);\n",
              "  flex-grow: 1;\n",
              "}\n",
              "\n",
              "#sk-container-id-1 div.sk-parallel {\n",
              "  display: flex;\n",
              "  align-items: stretch;\n",
              "  justify-content: center;\n",
              "  background-color: var(--sklearn-color-background);\n",
              "  position: relative;\n",
              "}\n",
              "\n",
              "#sk-container-id-1 div.sk-parallel-item {\n",
              "  display: flex;\n",
              "  flex-direction: column;\n",
              "}\n",
              "\n",
              "#sk-container-id-1 div.sk-parallel-item:first-child::after {\n",
              "  align-self: flex-end;\n",
              "  width: 50%;\n",
              "}\n",
              "\n",
              "#sk-container-id-1 div.sk-parallel-item:last-child::after {\n",
              "  align-self: flex-start;\n",
              "  width: 50%;\n",
              "}\n",
              "\n",
              "#sk-container-id-1 div.sk-parallel-item:only-child::after {\n",
              "  width: 0;\n",
              "}\n",
              "\n",
              "/* Serial-specific style estimator block */\n",
              "\n",
              "#sk-container-id-1 div.sk-serial {\n",
              "  display: flex;\n",
              "  flex-direction: column;\n",
              "  align-items: center;\n",
              "  background-color: var(--sklearn-color-background);\n",
              "  padding-right: 1em;\n",
              "  padding-left: 1em;\n",
              "}\n",
              "\n",
              "\n",
              "/* Toggleable style: style used for estimator/Pipeline/ColumnTransformer box that is\n",
              "clickable and can be expanded/collapsed.\n",
              "- Pipeline and ColumnTransformer use this feature and define the default style\n",
              "- Estimators will overwrite some part of the style using the `sk-estimator` class\n",
              "*/\n",
              "\n",
              "/* Pipeline and ColumnTransformer style (default) */\n",
              "\n",
              "#sk-container-id-1 div.sk-toggleable {\n",
              "  /* Default theme specific background. It is overwritten whether we have a\n",
              "  specific estimator or a Pipeline/ColumnTransformer */\n",
              "  background-color: var(--sklearn-color-background);\n",
              "}\n",
              "\n",
              "/* Toggleable label */\n",
              "#sk-container-id-1 label.sk-toggleable__label {\n",
              "  cursor: pointer;\n",
              "  display: block;\n",
              "  width: 100%;\n",
              "  margin-bottom: 0;\n",
              "  padding: 0.5em;\n",
              "  box-sizing: border-box;\n",
              "  text-align: center;\n",
              "}\n",
              "\n",
              "#sk-container-id-1 label.sk-toggleable__label-arrow:before {\n",
              "  /* Arrow on the left of the label */\n",
              "  content: \"▸\";\n",
              "  float: left;\n",
              "  margin-right: 0.25em;\n",
              "  color: var(--sklearn-color-icon);\n",
              "}\n",
              "\n",
              "#sk-container-id-1 label.sk-toggleable__label-arrow:hover:before {\n",
              "  color: var(--sklearn-color-text);\n",
              "}\n",
              "\n",
              "/* Toggleable content - dropdown */\n",
              "\n",
              "#sk-container-id-1 div.sk-toggleable__content {\n",
              "  max-height: 0;\n",
              "  max-width: 0;\n",
              "  overflow: hidden;\n",
              "  text-align: left;\n",
              "  /* unfitted */\n",
              "  background-color: var(--sklearn-color-unfitted-level-0);\n",
              "}\n",
              "\n",
              "#sk-container-id-1 div.sk-toggleable__content.fitted {\n",
              "  /* fitted */\n",
              "  background-color: var(--sklearn-color-fitted-level-0);\n",
              "}\n",
              "\n",
              "#sk-container-id-1 div.sk-toggleable__content pre {\n",
              "  margin: 0.2em;\n",
              "  border-radius: 0.25em;\n",
              "  color: var(--sklearn-color-text);\n",
              "  /* unfitted */\n",
              "  background-color: var(--sklearn-color-unfitted-level-0);\n",
              "}\n",
              "\n",
              "#sk-container-id-1 div.sk-toggleable__content.fitted pre {\n",
              "  /* unfitted */\n",
              "  background-color: var(--sklearn-color-fitted-level-0);\n",
              "}\n",
              "\n",
              "#sk-container-id-1 input.sk-toggleable__control:checked~div.sk-toggleable__content {\n",
              "  /* Expand drop-down */\n",
              "  max-height: 200px;\n",
              "  max-width: 100%;\n",
              "  overflow: auto;\n",
              "}\n",
              "\n",
              "#sk-container-id-1 input.sk-toggleable__control:checked~label.sk-toggleable__label-arrow:before {\n",
              "  content: \"▾\";\n",
              "}\n",
              "\n",
              "/* Pipeline/ColumnTransformer-specific style */\n",
              "\n",
              "#sk-container-id-1 div.sk-label input.sk-toggleable__control:checked~label.sk-toggleable__label {\n",
              "  color: var(--sklearn-color-text);\n",
              "  background-color: var(--sklearn-color-unfitted-level-2);\n",
              "}\n",
              "\n",
              "#sk-container-id-1 div.sk-label.fitted input.sk-toggleable__control:checked~label.sk-toggleable__label {\n",
              "  background-color: var(--sklearn-color-fitted-level-2);\n",
              "}\n",
              "\n",
              "/* Estimator-specific style */\n",
              "\n",
              "/* Colorize estimator box */\n",
              "#sk-container-id-1 div.sk-estimator input.sk-toggleable__control:checked~label.sk-toggleable__label {\n",
              "  /* unfitted */\n",
              "  background-color: var(--sklearn-color-unfitted-level-2);\n",
              "}\n",
              "\n",
              "#sk-container-id-1 div.sk-estimator.fitted input.sk-toggleable__control:checked~label.sk-toggleable__label {\n",
              "  /* fitted */\n",
              "  background-color: var(--sklearn-color-fitted-level-2);\n",
              "}\n",
              "\n",
              "#sk-container-id-1 div.sk-label label.sk-toggleable__label,\n",
              "#sk-container-id-1 div.sk-label label {\n",
              "  /* The background is the default theme color */\n",
              "  color: var(--sklearn-color-text-on-default-background);\n",
              "}\n",
              "\n",
              "/* On hover, darken the color of the background */\n",
              "#sk-container-id-1 div.sk-label:hover label.sk-toggleable__label {\n",
              "  color: var(--sklearn-color-text);\n",
              "  background-color: var(--sklearn-color-unfitted-level-2);\n",
              "}\n",
              "\n",
              "/* Label box, darken color on hover, fitted */\n",
              "#sk-container-id-1 div.sk-label.fitted:hover label.sk-toggleable__label.fitted {\n",
              "  color: var(--sklearn-color-text);\n",
              "  background-color: var(--sklearn-color-fitted-level-2);\n",
              "}\n",
              "\n",
              "/* Estimator label */\n",
              "\n",
              "#sk-container-id-1 div.sk-label label {\n",
              "  font-family: monospace;\n",
              "  font-weight: bold;\n",
              "  display: inline-block;\n",
              "  line-height: 1.2em;\n",
              "}\n",
              "\n",
              "#sk-container-id-1 div.sk-label-container {\n",
              "  text-align: center;\n",
              "}\n",
              "\n",
              "/* Estimator-specific */\n",
              "#sk-container-id-1 div.sk-estimator {\n",
              "  font-family: monospace;\n",
              "  border: 1px dotted var(--sklearn-color-border-box);\n",
              "  border-radius: 0.25em;\n",
              "  box-sizing: border-box;\n",
              "  margin-bottom: 0.5em;\n",
              "  /* unfitted */\n",
              "  background-color: var(--sklearn-color-unfitted-level-0);\n",
              "}\n",
              "\n",
              "#sk-container-id-1 div.sk-estimator.fitted {\n",
              "  /* fitted */\n",
              "  background-color: var(--sklearn-color-fitted-level-0);\n",
              "}\n",
              "\n",
              "/* on hover */\n",
              "#sk-container-id-1 div.sk-estimator:hover {\n",
              "  /* unfitted */\n",
              "  background-color: var(--sklearn-color-unfitted-level-2);\n",
              "}\n",
              "\n",
              "#sk-container-id-1 div.sk-estimator.fitted:hover {\n",
              "  /* fitted */\n",
              "  background-color: var(--sklearn-color-fitted-level-2);\n",
              "}\n",
              "\n",
              "/* Specification for estimator info (e.g. \"i\" and \"?\") */\n",
              "\n",
              "/* Common style for \"i\" and \"?\" */\n",
              "\n",
              ".sk-estimator-doc-link,\n",
              "a:link.sk-estimator-doc-link,\n",
              "a:visited.sk-estimator-doc-link {\n",
              "  float: right;\n",
              "  font-size: smaller;\n",
              "  line-height: 1em;\n",
              "  font-family: monospace;\n",
              "  background-color: var(--sklearn-color-background);\n",
              "  border-radius: 1em;\n",
              "  height: 1em;\n",
              "  width: 1em;\n",
              "  text-decoration: none !important;\n",
              "  margin-left: 1ex;\n",
              "  /* unfitted */\n",
              "  border: var(--sklearn-color-unfitted-level-1) 1pt solid;\n",
              "  color: var(--sklearn-color-unfitted-level-1);\n",
              "}\n",
              "\n",
              ".sk-estimator-doc-link.fitted,\n",
              "a:link.sk-estimator-doc-link.fitted,\n",
              "a:visited.sk-estimator-doc-link.fitted {\n",
              "  /* fitted */\n",
              "  border: var(--sklearn-color-fitted-level-1) 1pt solid;\n",
              "  color: var(--sklearn-color-fitted-level-1);\n",
              "}\n",
              "\n",
              "/* On hover */\n",
              "div.sk-estimator:hover .sk-estimator-doc-link:hover,\n",
              ".sk-estimator-doc-link:hover,\n",
              "div.sk-label-container:hover .sk-estimator-doc-link:hover,\n",
              ".sk-estimator-doc-link:hover {\n",
              "  /* unfitted */\n",
              "  background-color: var(--sklearn-color-unfitted-level-3);\n",
              "  color: var(--sklearn-color-background);\n",
              "  text-decoration: none;\n",
              "}\n",
              "\n",
              "div.sk-estimator.fitted:hover .sk-estimator-doc-link.fitted:hover,\n",
              ".sk-estimator-doc-link.fitted:hover,\n",
              "div.sk-label-container:hover .sk-estimator-doc-link.fitted:hover,\n",
              ".sk-estimator-doc-link.fitted:hover {\n",
              "  /* fitted */\n",
              "  background-color: var(--sklearn-color-fitted-level-3);\n",
              "  color: var(--sklearn-color-background);\n",
              "  text-decoration: none;\n",
              "}\n",
              "\n",
              "/* Span, style for the box shown on hovering the info icon */\n",
              ".sk-estimator-doc-link span {\n",
              "  display: none;\n",
              "  z-index: 9999;\n",
              "  position: relative;\n",
              "  font-weight: normal;\n",
              "  right: .2ex;\n",
              "  padding: .5ex;\n",
              "  margin: .5ex;\n",
              "  width: min-content;\n",
              "  min-width: 20ex;\n",
              "  max-width: 50ex;\n",
              "  color: var(--sklearn-color-text);\n",
              "  box-shadow: 2pt 2pt 4pt #999;\n",
              "  /* unfitted */\n",
              "  background: var(--sklearn-color-unfitted-level-0);\n",
              "  border: .5pt solid var(--sklearn-color-unfitted-level-3);\n",
              "}\n",
              "\n",
              ".sk-estimator-doc-link.fitted span {\n",
              "  /* fitted */\n",
              "  background: var(--sklearn-color-fitted-level-0);\n",
              "  border: var(--sklearn-color-fitted-level-3);\n",
              "}\n",
              "\n",
              ".sk-estimator-doc-link:hover span {\n",
              "  display: block;\n",
              "}\n",
              "\n",
              "/* \"?\"-specific style due to the `<a>` HTML tag */\n",
              "\n",
              "#sk-container-id-1 a.estimator_doc_link {\n",
              "  float: right;\n",
              "  font-size: 1rem;\n",
              "  line-height: 1em;\n",
              "  font-family: monospace;\n",
              "  background-color: var(--sklearn-color-background);\n",
              "  border-radius: 1rem;\n",
              "  height: 1rem;\n",
              "  width: 1rem;\n",
              "  text-decoration: none;\n",
              "  /* unfitted */\n",
              "  color: var(--sklearn-color-unfitted-level-1);\n",
              "  border: var(--sklearn-color-unfitted-level-1) 1pt solid;\n",
              "}\n",
              "\n",
              "#sk-container-id-1 a.estimator_doc_link.fitted {\n",
              "  /* fitted */\n",
              "  border: var(--sklearn-color-fitted-level-1) 1pt solid;\n",
              "  color: var(--sklearn-color-fitted-level-1);\n",
              "}\n",
              "\n",
              "/* On hover */\n",
              "#sk-container-id-1 a.estimator_doc_link:hover {\n",
              "  /* unfitted */\n",
              "  background-color: var(--sklearn-color-unfitted-level-3);\n",
              "  color: var(--sklearn-color-background);\n",
              "  text-decoration: none;\n",
              "}\n",
              "\n",
              "#sk-container-id-1 a.estimator_doc_link.fitted:hover {\n",
              "  /* fitted */\n",
              "  background-color: var(--sklearn-color-fitted-level-3);\n",
              "}\n",
              "</style><div id=\"sk-container-id-1\" class=\"sk-top-container\"><div class=\"sk-text-repr-fallback\"><pre>PCA(n_components=2)</pre><b>In a Jupyter environment, please rerun this cell to show the HTML representation or trust the notebook. <br />On GitHub, the HTML representation is unable to render, please try loading this page with nbviewer.org.</b></div><div class=\"sk-container\" hidden><div class=\"sk-item\"><div class=\"sk-estimator fitted sk-toggleable\"><input class=\"sk-toggleable__control sk-hidden--visually\" id=\"sk-estimator-id-1\" type=\"checkbox\" checked><label for=\"sk-estimator-id-1\" class=\"sk-toggleable__label fitted sk-toggleable__label-arrow fitted\">&nbsp;&nbsp;PCA<a class=\"sk-estimator-doc-link fitted\" rel=\"noreferrer\" target=\"_blank\" href=\"https://scikit-learn.org/1.5/modules/generated/sklearn.decomposition.PCA.html\">?<span>Documentation for PCA</span></a><span class=\"sk-estimator-doc-link fitted\">i<span>Fitted</span></span></label><div class=\"sk-toggleable__content fitted\"><pre>PCA(n_components=2)</pre></div> </div></div></div></div>"
            ],
            "text/plain": [
              "PCA(n_components=2)"
            ]
          },
          "execution_count": 25,
          "metadata": {},
          "output_type": "execute_result"
        }
      ],
      "source": [
        "from sklearn.decomposition import PCA\n",
        "\n",
        "# Initializes PCA\n",
        "pca_model = PCA(n_components=2)\n",
        "\n",
        "# Performs PCA\n",
        "pca_model.fit(X_all)"
      ]
    },
    {
      "cell_type": "code",
      "execution_count": 26,
      "metadata": {
        "colab": {
          "base_uri": "https://localhost:8080/"
        },
        "id": "oMkieWV1Nt9v",
        "outputId": "1832d015-01c2-4cf5-c592-845bc2460d1e"
      },
      "outputs": [
        {
          "name": "stdout",
          "output_type": "stream",
          "text": [
            "Help on function visualize_components in module __main__:\n",
            "\n",
            "visualize_components(component1, component2, labels, show=True)\n",
            "    Plots a 2D representation of the data for visualization with categories\n",
            "    labelled as different colors.\n",
            "\n",
            "    Args:\n",
            "      component1 (numpy array of floats) : Vector of component 1 scores\n",
            "      component2 (numpy array of floats) : Vector of component 2 scores\n",
            "      labels (numpy array of floats)     : Vector corresponding to categories of\n",
            "                                           samples\n",
            "\n",
            "    Returns:\n",
            "      Nothing.\n",
            "\n",
            "Help on method transform in module sklearn.decomposition._base:\n",
            "\n",
            "transform(X) method of sklearn.decomposition._pca.PCA instance\n",
            "    Apply dimensionality reduction to X.\n",
            "\n",
            "    X is projected on the first principal components previously extracted\n",
            "    from a training set.\n",
            "\n",
            "    Parameters\n",
            "    ----------\n",
            "    X : {array-like, sparse matrix} of shape (n_samples, n_features)\n",
            "        New data, where `n_samples` is the number of samples\n",
            "        and `n_features` is the number of features.\n",
            "\n",
            "    Returns\n",
            "    -------\n",
            "    X_new : array-like of shape (n_samples, n_components)\n",
            "        Projection of X in the first principal components, where `n_samples`\n",
            "        is the number of samples and `n_components` is the number of the components.\n",
            "\n"
          ]
        }
      ],
      "source": [
        "help(visualize_components)\n",
        "help(pca_model.transform)"
      ]
    },
    {
      "cell_type": "code",
      "execution_count": 27,
      "metadata": {
        "colab": {
          "base_uri": "https://localhost:8080/",
          "height": 449
        },
        "id": "V-uXj_WsN1Zf",
        "outputId": "b9e44044-3c01-47c4-9133-0a3ce7b34761"
      },
      "outputs": [
        {
          "data": {
            "image/png": "[encoded data removed]",
            "text/plain": [
              "<Figure size 640x480 with 2 Axes>"
            ]
          },
          "metadata": {},
          "output_type": "display_data"
        }
      ],
      "source": [
        "# Take only the first 2000 samples with the corresponding labels\n",
        "X, labels = X_all[:2000, :], labels_all[:2000]\n",
        "\n",
        "# Perform PCA\n",
        "scores = pca_model.transform(X)\n",
        "\n",
        "# Plot the data and reconstruction\n",
        "visualize_components(scores[:, 0], scores[:, 1], labels)"
      ]
    },
    {
      "cell_type": "markdown",
      "metadata": {
        "id": "19B3XfKdqGGg"
      },
      "source": [
        "(Hay otras técnicas como t-SNE para cuando PCA no sea suficiente, depende del tipo de datos al que nos enfrentemos)."
      ]
    }
  ],
  "metadata": {
    "colab": {
      "provenance": []
    },
    "kernelspec": {
      "display_name": "Python 3",
      "name": "python3"
    },
    "language_info": {
      "codemirror_mode": {
        "name": "ipython",
        "version": 3
      },
      "file_extension": ".py",
      "mimetype": "text/x-python",
      "name": "python",
      "nbconvert_exporter": "python",
      "pygments_lexer": "ipython3",
      "version": "3.12.3"
    }
  },
  "nbformat": 4,
  "nbformat_minor": 0
}
